{
 "cells": [
  {
   "cell_type": "code",
   "execution_count": 551,
   "metadata": {
    "autoscroll": "json-false",
    "collapsed": false,
    "ein.tags": [
     "worksheet-0"
    ],
    "slideshow": {
     "slide_type": "-"
    }
   },
   "outputs": [],
   "source": [
    "%matplotlib inline\n",
    "\n",
    "from __future__ import print_function\n",
    "from __future__ import division\n",
    "\n",
    "import pandas as pd\n",
    "import numpy as np\n",
    "\n",
    "from matplotlib import pyplot as plt\n",
    "import seaborn as sns\n",
    "\n",
    "from sklearn.model_selection import train_test_split\n",
    "import statsmodels.api as sm\n",
    "from statsmodels.tools import eval_measures"
   ]
  },
  {
   "cell_type": "code",
   "execution_count": 552,
   "metadata": {
    "autoscroll": "json-false",
    "collapsed": false,
    "ein.tags": [
     "worksheet-0"
    ],
    "slideshow": {
     "slide_type": "-"
    }
   },
   "outputs": [],
   "source": [
    "def preprocess_data(data_path, labels_path=None):\n",
    "    # load data and set index to city, year, weekofyear\n",
    "    df = pd.read_csv(data_path, index_col=[0, 1, 2])\n",
    "    df.drop('week_start_date', axis=1, inplace=True)\n",
    "    df['constant'] = 1.0\n",
    "    # fill missing values\n",
    "    df.fillna(method='ffill', inplace=True)\n",
    "\n",
    "    \n",
    "    # add labels to dataframe\n",
    "    if labels_path:\n",
    "        labels = pd.read_csv(labels_path, index_col=[0, 1, 2])\n",
    "        df = df.join(labels)\n",
    "    \n",
    "    # separate san juan and iquitos\n",
    "    sj = df.loc['sj']\n",
    "    iq = df.loc['iq']\n",
    "    \n",
    "    return sj, iq"
   ]
  },
  {
   "cell_type": "code",
   "execution_count": 553,
   "metadata": {
    "autoscroll": "json-false",
    "collapsed": false,
    "ein.tags": [
     "worksheet-0"
    ],
    "slideshow": {
     "slide_type": "-"
    }
   },
   "outputs": [],
   "source": [
    "def feature_normalization(train, test_sets, exclude=['total_cases', 'constant']):\n",
    "    \"\"\"Rescale the data so that each feature in the training set is in\n",
    "    the interval [0,1], and apply the same transformations to the test\n",
    "    set, using the statistics computed on the training set.\n",
    "\n",
    "    Args:\n",
    "        train - training set, a 2D numpy array of size (num_instances, num_features)\n",
    "        test  - test set, a 2D numpy array of size (num_instances, num_features)\n",
    "    Returns:\n",
    "        train_normalized - training set after normalization\n",
    "        test_normalized  - test set after normalization\n",
    "\n",
    "    \"\"\"\n",
    "    for column in train:\n",
    "        if column not in exclude:\n",
    "            train_col = train.loc[:, column]\n",
    "            train_mean = train_col.mean()\n",
    "            train_std = train_col.std()\n",
    "            train.loc[:, column] = (train_col - train_mean) / train_std\n",
    "            for t in test_sets:\n",
    "                t.loc[:, column] = (t.loc[:, column] - train_mean) / train_std\n"
   ]
  },
  {
   "cell_type": "code",
   "execution_count": 554,
   "metadata": {
    "autoscroll": "json-false",
    "collapsed": false,
    "ein.tags": [
     "worksheet-0"
    ],
    "slideshow": {
     "slide_type": "-"
    }
   },
   "outputs": [],
   "source": [
    "sj_train, iq_train = preprocess_data('data/dengue_features_train.csv',\n",
    "                                    labels_path=\"data/dengue_labels_train.csv\")\n",
    "sj_test, iq_test = preprocess_data('data/dengue_features_test.csv')"
   ]
  },
  {
   "cell_type": "code",
   "execution_count": 555,
   "metadata": {
    "autoscroll": "json-false",
    "collapsed": false,
    "ein.tags": [
     "worksheet-0"
    ],
    "slideshow": {
     "slide_type": "-"
    }
   },
   "outputs": [],
   "source": [
    "sj_train_subtrain = sj_train.head(800)\n",
    "sj_train_subtest = sj_train.tail(sj_train.shape[0] - 800)\n",
    "feature_normalization(sj_train_subtrain, [sj_train_subtest, sj_test])\n",
    "\n",
    "iq_train_subtrain = iq_train.head(400)\n",
    "iq_train_subtest = iq_train.tail(iq_train.shape[0] - 400)\n",
    "feature_normalization(iq_train_subtrain, [iq_train_subtest, iq_test])\n"
   ]
  },
  {
   "cell_type": "code",
   "execution_count": 556,
   "metadata": {
    "autoscroll": "json-false",
    "collapsed": false,
    "ein.tags": [
     "worksheet-0"
    ],
    "slideshow": {
     "slide_type": "-"
    }
   },
   "outputs": [],
   "source": [
    "def generic_gradient_checker(X, y, theta, objective_func, gradient_func, epsilon=0.01, tolerance=1e-4):\n",
    "    \"\"\"\n",
    "    The functions takes objective_func and gradient_func as parameters. And check whether gradient_func(X, y, theta) returned\n",
    "    the true gradient for objective_func(X, y, theta).\n",
    "    Eg: In LSR, the objective_func = compute_square_loss, and gradient_func = compute_square_loss_gradient\n",
    "    \"\"\"\n",
    "    true_gradient = gradient_func(X, y, theta) #the true gradient\n",
    "    num_features = theta.shape[0]\n",
    "    approx_grad = np.zeros(num_features) #Initialize the gradient we approximate\n",
    "    for i in range(num_features):\n",
    "        delta = np.zeros((num_features))\n",
    "        delta[i] = epsilon\n",
    "        hi = objective_func(X, y, theta + delta)\n",
    "        lo = objective_func(X, y, theta - delta)\n",
    "        approx_grad[i] = (hi - lo)/(2 * epsilon)\n",
    "    return np.linalg.norm(approx_grad - true_gradient) < tolerance\n"
   ]
  },
  {
   "cell_type": "code",
   "execution_count": 584,
   "metadata": {
    "autoscroll": "json-false",
    "collapsed": false,
    "ein.tags": [
     "worksheet-0"
    ],
    "slideshow": {
     "slide_type": "-"
    }
   },
   "outputs": [],
   "source": [
    "def generic_gradient(X, y, theta, objective_func, epsilon=0.001):\n",
    "    num_features = theta.shape[0]\n",
    "    approx_grad = np.zeros(num_features) #Initialize the gradient we approximate\n",
    "    for i in range(num_features):\n",
    "        delta = np.zeros((num_features))\n",
    "        delta[i] = epsilon\n",
    "        hi = objective_func(X, y, theta + delta)\n",
    "        lo = objective_func(X, y, theta - delta)\n",
    "        approx_grad[i] = (hi - lo)/(2 * epsilon)\n",
    "    return approx_grad"
   ]
  },
  {
   "cell_type": "code",
   "execution_count": 558,
   "metadata": {
    "autoscroll": "json-false",
    "collapsed": false,
    "ein.tags": [
     "worksheet-0"
    ],
    "slideshow": {
     "slide_type": "-"
    }
   },
   "outputs": [],
   "source": [
    "def compute_square_loss(X, y, theta):\n",
    "    loss = 1.0/(2*len(y)) * np.linalg.norm(np.exp(np.dot(X, theta)) - y) ** 2\n",
    "    return loss\n",
    "\n",
    "def compute_absolute_loss(X, y, theta):\n",
    "    loss = 1.0/(2*len(y)) * np.sum(np.abs(np.exp(np.dot(X, theta)) - y))\n",
    "    return loss\n"
   ]
  },
  {
   "cell_type": "code",
   "execution_count": 559,
   "metadata": {
    "autoscroll": "json-false",
    "collapsed": false,
    "ein.tags": [
     "worksheet-0"
    ],
    "slideshow": {
     "slide_type": "-"
    }
   },
   "outputs": [],
   "source": [
    "def compute_square_loss_gradient(X, y, theta):\n",
    "    exp_Xtheta = np.exp(np.dot(X, theta))\n",
    "    grad = 1.0 / len(y) * np.dot(exp_Xtheta - y, np.transpose(np.transpose(X) * exp_Xtheta))\n",
    "    return grad"
   ]
  },
  {
   "cell_type": "code",
   "execution_count": 560,
   "metadata": {
    "autoscroll": "json-false",
    "collapsed": false,
    "ein.tags": [
     "worksheet-0"
    ],
    "slideshow": {
     "slide_type": "-"
    }
   },
   "outputs": [],
   "source": [
    "def batch_grad_descent(X, y, X_test=None, y_test=None, alpha=0.1, num_iter=1000, check_gradient=False):\n",
    "    \"\"\"\n",
    "    In this question you will implement batch gradient descent to\n",
    "    minimize the square loss objective\n",
    "\n",
    "    Args:\n",
    "        X - the feature vector, 2D numpy array of size (num_instances, num_features)\n",
    "        y - the label vector, 1D numpy array of size (num_instances)\n",
    "        alpha - step size in gradient descent\n",
    "        num_iter - number of iterations to run\n",
    "        check_gradient - a boolean value indicating whether checking the gradient when updating\n",
    "\n",
    "    Returns:\n",
    "        theta_hist - store the the history of parameter vector in iteration, 2D numpy array of size (num_iter+1, num_features)\n",
    "                    for instance, theta in iteration 0 should be theta_hist[0], theta in ieration (num_iter) is theta_hist[-1]\n",
    "        loss_hist - the history of objective function vector, 1D numpy array of size (num_iter+1)\n",
    "    \"\"\"\n",
    "    num_instances, num_features = X.shape[0], X.shape[1]\n",
    "    print(X.shape)\n",
    "    theta_hist = np.zeros((num_iter+1, num_features))  #Initialize theta_hist\n",
    "    loss_hist = np.zeros(num_iter+1) #initialize loss_hist\n",
    "    theta = np.ones(num_features)/20 #initialize theta\n",
    "    theta_hist[0] = theta\n",
    "    loss_hist[0] = compute_absolute_loss(X, y, theta)\n",
    "    for i in range(num_iter):\n",
    "        theta = theta - alpha * generic_gradient(X, y, theta, compute_absolute_loss)\n",
    "        # theta = theta - alpha * compute_square_loss_gradient(X, y, theta)\n",
    "        # if check_gradient and not generic_gradient_checker(X, y, theta, compute_square_loss, compute_square_loss_gradient):\n",
    "        #    print(\"warning: gradient check fails\")\n",
    "        #    return\n",
    "        theta_hist[i+1] = theta\n",
    "        loss_hist[i+1] = compute_absolute_loss(X, y, theta)\n",
    "    \n",
    "    if X_test is not None:\n",
    "        results = np.exp(np.dot(X_test, theta))\n",
    "        print(eval_measures.meanabs(results, y_test))\n",
    "    return theta_hist, loss_hist"
   ]
  },
  {
   "cell_type": "code",
   "execution_count": 627,
   "metadata": {
    "autoscroll": "json-false",
    "collapsed": false,
    "ein.tags": [
     "worksheet-0"
    ],
    "slideshow": {
     "slide_type": "-"
    }
   },
   "outputs": [
    {
     "name": "stderr",
     "output_type": "stream",
     "text": [
      "/Users/alex/anaconda/lib/python2.7/site-packages/ipykernel/__main__.py:16: SettingWithCopyWarning: \n",
      "A value is trying to be set on a copy of a slice from a DataFrame.\n",
      "Try using .loc[row_indexer,col_indexer] = value instead\n",
      "\n",
      "See the caveats in the documentation: http://pandas.pydata.org/pandas-docs/stable/indexing.html#indexing-view-versus-copy\n"
     ]
    },
    {
     "name": "stdout",
     "output_type": "stream",
     "text": [
      "\n"
     ]
    },
    {
     "name": "stdout",
     "output_type": "stream",
     "text": [
      "(800, 5)\n",
      "17.377223604"
     ]
    }
   ],
   "source": [
    "# X = sj_train_subtrain.drop('total_cases', axis=1).as_matrix()\n",
    "X = sj_train_subtrain[[\"reanalysis_specific_humidity_g_per_kg\",\n",
    "                     \"reanalysis_dew_point_temp_k\",\n",
    "                     \"station_min_temp_c\",\n",
    "                     \"station_avg_temp_c\",\n",
    "                     \"constant\"]].as_matrix()\n",
    "y = sj_train_subtrain['total_cases'].as_matrix()\n",
    "# X_test = sj_train_subtest.drop('total_cases', axis=1).as_matrix()\n",
    "X_test = sj_train_subtest[[\"reanalysis_specific_humidity_g_per_kg\",\n",
    "                           \"reanalysis_dew_point_temp_k\",\n",
    "                           \"station_min_temp_c\",\n",
    "                           \"station_avg_temp_c\",\n",
    "                           \"constant\"]].as_matrix()\n",
    "y_test = sj_train_subtest['total_cases'].as_matrix()\n",
    "sj_thist, sj_lhist = batch_grad_descent(X, y, X_test=X_test, y_test=y_test, alpha=.01, num_iter=10000, check_gradient=False)\n",
    "sj_train_subtrain['fitted'] = np.exp(np.dot(X, sj_thist[-1]))"
   ]
  },
  {
   "cell_type": "code",
   "execution_count": 564,
   "metadata": {
    "autoscroll": "json-false",
    "collapsed": false,
    "ein.tags": [
     "worksheet-0"
    ],
    "slideshow": {
     "slide_type": "-"
    }
   },
   "outputs": [
    {
     "data": {
      "text/plain": [
       "17.401567342919275"
      ]
     },
     "execution_count": 564,
     "metadata": {},
     "output_type": "execute_result"
    }
   ],
   "source": [
    "sj_lhist[1]"
   ]
  },
  {
   "cell_type": "code",
   "execution_count": 630,
   "metadata": {
    "autoscroll": "json-false",
    "collapsed": false,
    "ein.tags": [
     "worksheet-0"
    ],
    "slideshow": {
     "slide_type": "-"
    }
   },
   "outputs": [
    {
     "name": "stderr",
     "output_type": "stream",
     "text": [
      "/Users/alex/anaconda/lib/python2.7/site-packages/ipykernel/__main__.py:16: SettingWithCopyWarning: \n",
      "A value is trying to be set on a copy of a slice from a DataFrame.\n",
      "Try using .loc[row_indexer,col_indexer] = value instead\n",
      "\n",
      "See the caveats in the documentation: http://pandas.pydata.org/pandas-docs/stable/indexing.html#indexing-view-versus-copy\n"
     ]
    },
    {
     "name": "stdout",
     "output_type": "stream",
     "text": [
      "\n"
     ]
    },
    {
     "name": "stdout",
     "output_type": "stream",
     "text": [
      "(400, 5)\n",
      "6.09811908563"
     ]
    }
   ],
   "source": [
    "# X = iq_train_subtrain.drop('total_cases', axis=1).as_matrix()\n",
    "X = iq_train_subtrain[[\"reanalysis_specific_humidity_g_per_kg\",\n",
    "                     \"reanalysis_dew_point_temp_k\",\n",
    "                     \"station_min_temp_c\",\n",
    "                     \"station_avg_temp_c\",\n",
    "                     \"constant\"]].as_matrix()\n",
    "y = iq_train_subtrain['total_cases'].as_matrix()\n",
    "# X_test = iq_train_subtest.drop('total_cases', axis=1).as_matrix()\n",
    "X_test = iq_train_subtest[[\"reanalysis_specific_humidity_g_per_kg\",\n",
    "                           \"reanalysis_dew_point_temp_k\",\n",
    "                           \"station_min_temp_c\",\n",
    "                           \"station_avg_temp_c\",\n",
    "                           \"constant\"]].as_matrix()\n",
    "y_test = iq_train_subtest['total_cases'].as_matrix()\n",
    "iq_thist, iq_lhist = batch_grad_descent(X, y, X_test=X_test, y_test=y_test, alpha=.01, num_iter=10000, check_gradient=False)\n",
    "iq_train_subtrain['fitted'] = np.exp(np.dot(X, iq_thist[-1]))\n"
   ]
  },
  {
   "cell_type": "code",
   "execution_count": 633,
   "metadata": {
    "autoscroll": "json-false",
    "collapsed": false,
    "ein.tags": [
     "worksheet-0"
    ],
    "slideshow": {
     "slide_type": "-"
    }
   },
   "outputs": [],
   "source": [
    "\n",
    "X_test = sj_test[[\"reanalysis_specific_humidity_g_per_kg\",\n",
    "                           \"reanalysis_dew_point_temp_k\",\n",
    "                           \"station_min_temp_c\",\n",
    "                           \"station_avg_temp_c\",\n",
    "                           \"constant\"]].as_matrix()\n",
    "sj_predictions = np.exp(np.dot(X_test, sj_thist[-1])).round().astype(int)\n",
    "X_test = iq_test[[\"reanalysis_specific_humidity_g_per_kg\",\n",
    "                           \"reanalysis_dew_point_temp_k\",\n",
    "                           \"station_min_temp_c\",\n",
    "                           \"station_avg_temp_c\",\n",
    "                           \"constant\"]].as_matrix()\n",
    "iq_predictions = np.exp(np.dot(X_test, iq_thist[-1])).round().astype(int)\n",
    "\n",
    "submission = pd.read_csv(\"data/submission_format.csv\",\n",
    "                         index_col=[0, 1, 2])\n",
    "\n",
    "submission.total_cases = np.concatenate([sj_predictions, iq_predictions])\n",
    "submission.to_csv(\"data/submission.csv\")"
   ]
  },
  {
   "cell_type": "code",
   "execution_count": 634,
   "metadata": {
    "autoscroll": "json-false",
    "collapsed": false,
    "ein.tags": [
     "worksheet-0"
    ],
    "slideshow": {
     "slide_type": "-"
    }
   },
   "outputs": [
    {
     "data": {
      "image/png": "[encoded data removed]",
      "text/plain": [
       "<matplotlib.figure.Figure at 0x1174f5c50>"
      ]
     },
     "metadata": {},
     "output_type": "display_data"
    },
    {
     "data": {
      "text/plain": [
       "<matplotlib.legend.Legend at 0x118072c50>"
      ]
     },
     "execution_count": 634,
     "metadata": {},
     "output_type": "execute_result"
    }
   ],
   "source": [
    "\n",
    "figs, axes = plt.subplots(nrows=2, ncols=1)\n",
    "\n",
    "# plot sj\n",
    "sj_train_subtrain.fitted.plot(ax=axes[0], label=\"Predictions\")\n",
    "sj_train_subtrain.total_cases.plot(ax=axes[0], label=\"Actual\")\n",
    "\n",
    "# plot iq\n",
    "iq_train_subtrain.fitted.plot(ax=axes[1], label=\"Predictions\")\n",
    "iq_train_subtrain.total_cases.plot(ax=axes[1], label=\"Actual\")\n",
    "\n",
    "plt.suptitle(\"Dengue Predicted Cases vs. Actual Cases\")\n",
    "plt.legend()"
   ]
  },
  {
   "cell_type": "code",
   "execution_count": 504,
   "metadata": {
    "autoscroll": "json-false",
    "collapsed": false,
    "ein.tags": [
     "worksheet-0"
    ],
    "slideshow": {
     "slide_type": "-"
    }
   },
   "outputs": [],
   "source": []
  },
  {
   "cell_type": "code",
   "execution_count": 0,
   "metadata": {
    "autoscroll": "json-false",
    "collapsed": false,
    "ein.tags": [
     "worksheet-0"
    ],
    "slideshow": {
     "slide_type": "-"
    }
   },
   "outputs": [],
   "source": []
  }
 ],
 "metadata": {
  "kernelspec": {
   "display_name": "Python 2",
   "name": "python2"
  },
  "language_info": {
   "codemirror_mode": {
    "name": "ipython",
    "version": 2
   },
   "file_extension": ".py",
   "mimetype": "text/x-python",
   "name": "python",
   "nbconvert_exporter": "python",
   "pygments_lexer": "ipython2",
   "version": "2.7.13"
  },
  "name": "regression_analysis.ipynb"
 },
 "nbformat": 4,
 "nbformat_minor": 0
}
